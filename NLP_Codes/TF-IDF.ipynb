{
 "cells": [
  {
   "cell_type": "code",
   "execution_count": 1,
   "metadata": {},
   "outputs": [],
   "source": [
    "# define three documents\n",
    "doc_1 = \"There are so many flowers and all of them are beautiful\"\n",
    "doc_2 = \"Since the flowers are beautiful, I do not want to be at home\"\n",
    "doc_3 = \"I want to enjoy outside and see the flowers and click more photos\""
   ]
  },
  {
   "cell_type": "code",
   "execution_count": 2,
   "metadata": {},
   "outputs": [],
   "source": [
    "# doc contains all the documents i.e doc_1, doc_2, doc_3\n",
    "doc = [doc_1, doc_2, doc_3]\n"
   ]
  },
  {
   "cell_type": "code",
   "execution_count": 3,
   "metadata": {},
   "outputs": [
    {
     "name": "stdout",
     "output_type": "stream",
     "text": [
      "['There are so many flowers and all of them are beautiful', 'Since the flowers are beautiful, I do not want to be at home', 'I want to enjoy outside and see the flowers and click more photos']\n"
     ]
    }
   ],
   "source": [
    "# see what is in the doc\n",
    "print(doc)"
   ]
  },
  {
   "cell_type": "code",
   "execution_count": 5,
   "metadata": {},
   "outputs": [],
   "source": [
    "# import TfidVectorizer\n",
    "from sklearn.feature_extraction.text import TfidfVectorizer\n",
    "vectorizer = TfidfVectorizer()"
   ]
  },
  {
   "cell_type": "code",
   "execution_count": 14,
   "metadata": {},
   "outputs": [
    {
     "name": "stdout",
     "output_type": "stream",
     "text": [
      "Document_1 ['there', 'are', 'so', 'many', 'flowers', 'and', 'all', 'of', 'them', 'are', 'beautiful']\n",
      "Document 2 ['since', 'the', 'flowers', 'are', 'beautiful', 'do', 'not', 'want', 'to', 'be', 'at', 'home']\n",
      "Document 3 ['want', 'to', 'enjoy', 'outside', 'and', 'see', 'the', 'flowers', 'and', 'click', 'more', 'photos']\n"
     ]
    }
   ],
   "source": [
    "\n",
    "analyze = vectorizer.build_analyzer()\n",
    "print(\"Document_1\",analyze(doc_1))\n",
    "print(\"Document 2\",analyze(doc_2))\n",
    "print(\"Document 3\",analyze(doc_3))\n",
    "#print(\"Document transform\", doc.toarray())"
   ]
  },
  {
   "cell_type": "code",
   "execution_count": 13,
   "metadata": {},
   "outputs": [
    {
     "name": "stdout",
     "output_type": "stream",
     "text": [
      "[[0.31912543 0.24270312 0.48540623 0.         0.         0.24270312\n",
      "  0.         0.         0.         0.18848062 0.         0.31912543\n",
      "  0.         0.         0.31912543 0.         0.         0.\n",
      "  0.         0.31912543 0.         0.31912543 0.31912543 0.\n",
      "  0.        ]\n",
      " [0.         0.         0.25018345 0.32896117 0.32896117 0.25018345\n",
      "  0.         0.32896117 0.         0.19428977 0.32896117 0.\n",
      "  0.         0.32896117 0.         0.         0.         0.\n",
      "  0.32896117 0.         0.25018345 0.         0.         0.25018345\n",
      "  0.25018345]\n",
      " [0.         0.47171196 0.         0.         0.         0.\n",
      "  0.31012227 0.         0.31012227 0.18316321 0.         0.\n",
      "  0.31012227 0.         0.         0.31012227 0.31012227 0.31012227\n",
      "  0.         0.         0.23585598 0.         0.         0.23585598\n",
      "  0.23585598]]\n",
      "['all', 'and', 'are', 'at', 'be', 'beautiful', 'click', 'do', 'enjoy', 'flowers', 'home', 'many', 'more', 'not', 'of', 'outside', 'photos', 'see', 'since', 'so', 'the', 'them', 'there', 'to', 'want']\n"
     ]
    }
   ],
   "source": [
    "# Tranform doc to numbers\n",
    "X = vectorizer.fit_transform(doc)\n",
    "print(X.toarray())\n",
    "# print features of the docs\n",
    "print(vectorizer.get_feature_names())"
   ]
  },
  {
   "cell_type": "code",
   "execution_count": null,
   "metadata": {},
   "outputs": [],
   "source": []
  }
 ],
 "metadata": {
  "kernelspec": {
   "display_name": "Python 3",
   "language": "python",
   "name": "python3"
  },
  "language_info": {
   "codemirror_mode": {
    "name": "ipython",
    "version": 3
   },
   "file_extension": ".py",
   "mimetype": "text/x-python",
   "name": "python",
   "nbconvert_exporter": "python",
   "pygments_lexer": "ipython3",
   "version": "3.7.4"
  }
 },
 "nbformat": 4,
 "nbformat_minor": 2
}
